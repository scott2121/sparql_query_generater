{
 "cells": [
  {
   "cell_type": "markdown",
   "metadata": {},
   "source": [
    "### fine tuningしてそのモデルを利用してSPARQLクエリを生成する"
   ]
  },
  {
   "cell_type": "code",
   "execution_count": null,
   "metadata": {},
   "outputs": [],
   "source": [
    "import os\n",
    "import json\n",
    "from openai import OpenAI\n",
    "from functions.results_evaluater import evaluate_jaccard\n",
    "\n",
    "db = 'rhea'\n",
    "\n",
    "endpoint = os.environ[f\"ENDPOINT_{db.upper()}\"]"
   ]
  },
  {
   "cell_type": "code",
   "execution_count": null,
   "metadata": {},
   "outputs": [
    {
     "data": {
      "text/plain": [
       "FileObject(id='file-8TxJAq65iewX5dKwsiMFCZ', bytes=61329, created_at=1749983449, filename='train_data_random_3_rhea.jsonl', object='file', purpose='fine-tune', status='processed', status_details=None, expires_at=None)"
      ]
     },
     "execution_count": 66,
     "metadata": {},
     "output_type": "execute_result"
    }
   ],
   "source": [
    "client = OpenAI()\n",
    "\n",
    "client.files.create(\n",
    "  file=open(f\"dataset/train_data_random_{db}.jsonl\", \"rb\"),\n",
    "  purpose=\"fine-tune\"\n",
    ")"
   ]
  },
  {
   "cell_type": "code",
   "execution_count": null,
   "metadata": {},
   "outputs": [
    {
     "data": {
      "text/plain": [
       "FineTuningJob(id='ftjob-u4bszZeAjf7nDhsRfsvwlnHL', created_at=1749983457, error=Error(code=None, message=None, param=None), fine_tuned_model=None, finished_at=None, hyperparameters=Hyperparameters(n_epochs='auto', batch_size='auto', learning_rate_multiplier='auto'), model='gpt-4o-mini-2024-07-18', object='fine_tuning.job', organization_id='org-lp3fs8tdFXsNwFTg0uNKfSoD', result_files=[], seed=392625965, status='validating_files', trained_tokens=None, training_file='file-8TxJAq65iewX5dKwsiMFCZ', validation_file=None, estimated_finish=None, integrations=[], user_provided_suffix=None, metadata=None, usage_metrics=None, shared_with_openai=False, eval_id=None, method={'type': 'supervised', 'supervised': {'hyperparameters': {'batch_size': 'auto', 'learning_rate_multiplier': 'auto', 'n_epochs': 'auto'}}})"
      ]
     },
     "execution_count": 67,
     "metadata": {},
     "output_type": "execute_result"
    }
   ],
   "source": [
    "client.fine_tuning.jobs.create(\n",
    "  training_file=\"file-8TxJAq65iewX5dKwsiMFCZ\", \n",
    "  model=\"gpt-4o-mini-2024-07-18\"\n",
    ")"
   ]
  },
  {
   "cell_type": "code",
   "execution_count": 68,
   "metadata": {},
   "outputs": [
    {
     "data": {
      "text/plain": [
       "FineTuningJob(id='ftjob-u4bszZeAjf7nDhsRfsvwlnHL', created_at=1749983457, error=Error(code=None, message=None, param=None), fine_tuned_model=None, finished_at=None, hyperparameters=Hyperparameters(n_epochs='auto', batch_size='auto', learning_rate_multiplier='auto'), model='gpt-4o-mini-2024-07-18', object='fine_tuning.job', organization_id='org-lp3fs8tdFXsNwFTg0uNKfSoD', result_files=[], seed=392625965, status='validating_files', trained_tokens=None, training_file='file-8TxJAq65iewX5dKwsiMFCZ', validation_file=None, estimated_finish=None, integrations=[], user_provided_suffix=None, metadata=None, usage_metrics=None, shared_with_openai=False, eval_id=None, method={'type': 'supervised', 'supervised': {'hyperparameters': {'n_epochs': 'auto', 'batch_size': 'auto', 'learning_rate_multiplier': 'auto'}}})"
      ]
     },
     "execution_count": 68,
     "metadata": {},
     "output_type": "execute_result"
    }
   ],
   "source": [
    "client.fine_tuning.jobs.retrieve(\"ftjob-u4bszZeAjf7nDhsRfsvwlnHL\")"
   ]
  },
  {
   "cell_type": "code",
   "execution_count": 69,
   "metadata": {},
   "outputs": [
    {
     "data": {
      "text/plain": [
       "SyncCursorPage[FineTuningJob](data=[FineTuningJob(id='ftjob-u4bszZeAjf7nDhsRfsvwlnHL', created_at=1749983457, error=Error(code=None, message=None, param=None), fine_tuned_model=None, finished_at=None, hyperparameters=Hyperparameters(n_epochs='auto', batch_size='auto', learning_rate_multiplier='auto'), model='gpt-4o-mini-2024-07-18', object='fine_tuning.job', organization_id='org-lp3fs8tdFXsNwFTg0uNKfSoD', result_files=[], seed=392625965, status='validating_files', trained_tokens=None, training_file='file-8TxJAq65iewX5dKwsiMFCZ', validation_file=None, estimated_finish=None, integrations=[], user_provided_suffix=None, metadata=None, usage_metrics=None, shared_with_openai=False, eval_id=None, method={'type': 'supervised', 'supervised': {'hyperparameters': {'n_epochs': 'auto', 'batch_size': 'auto', 'learning_rate_multiplier': 'auto'}}}), FineTuningJob(id='ftjob-SHttHTkKVjKfsGMuFXFR23vP', created_at=1749975847, error=Error(code=None, message=None, param=None), fine_tuned_model='ft:gpt-4o-mini-2024-07-18:personal::Bid521Zb', finished_at=1749976354, hyperparameters=Hyperparameters(n_epochs=3, batch_size=1, learning_rate_multiplier=1.8), model='gpt-4o-mini-2024-07-18', object='fine_tuning.job', organization_id='org-lp3fs8tdFXsNwFTg0uNKfSoD', result_files=['file-5KtvmgcKaommAnxRVQ4ffu'], seed=1519535035, status='succeeded', trained_tokens=69288, training_file='file-S9TZ8c7aLMMWgx2xmXnf6C', validation_file=None, estimated_finish=None, integrations=[], user_provided_suffix=None, metadata=None, usage_metrics=None, shared_with_openai=False, eval_id=None, method={'type': 'supervised', 'supervised': {'hyperparameters': {'n_epochs': 3, 'batch_size': 1, 'learning_rate_multiplier': 1.8}}}), FineTuningJob(id='ftjob-BMHwU8SclP67eSVQoiKYS3td', created_at=1728204206, error=Error(code=None, message=None, param=None), fine_tuned_model='ft:gpt-4o-mini-2024-07-18:personal::AFHFxwYR', finished_at=1728204616, hyperparameters=Hyperparameters(n_epochs=3, batch_size=1, learning_rate_multiplier=1.8), model='gpt-4o-mini-2024-07-18', object='fine_tuning.job', organization_id='org-lp3fs8tdFXsNwFTg0uNKfSoD', result_files=['file-M8ChtfksjkF12dR9oiKjssue'], seed=549198293, status='succeeded', trained_tokens=67257, training_file='file-Aw851LpAyFGFof3EUgQU4wqL', validation_file=None, estimated_finish=None, integrations=[], user_provided_suffix=None, metadata=None, usage_metrics=None, shared_with_openai=False, eval_id=None, method=None)], object='list', has_more=True)"
      ]
     },
     "execution_count": 69,
     "metadata": {},
     "output_type": "execute_result"
    }
   ],
   "source": [
    "# List 10 fine-tuning jobs\n",
    "client.fine_tuning.jobs.list(limit=3)"
   ]
  },
  {
   "cell_type": "code",
   "execution_count": null,
   "metadata": {},
   "outputs": [],
   "source": [
    "# save path\n",
    "save_path = f'data/questions/easy_question_augmented_{db}_baseline_FT.json'\n",
    "save_path_with_results = f'data/questions/easy_question_augmented_with_results_{db}_baseline_FT.json'"
   ]
  },
  {
   "cell_type": "code",
   "execution_count": null,
   "metadata": {},
   "outputs": [],
   "source": [
    "with open(f\"questions/json_format/{db}.json\", 'r') as f:\n",
    "\tquestions = json.load(f)"
   ]
  },
  {
   "cell_type": "code",
   "execution_count": null,
   "metadata": {},
   "outputs": [
    {
     "name": "stdout",
     "output_type": "stream",
     "text": [
      "Q1-1-1 1\n",
      "Q1-2-1 1\n",
      "Q1-3-1 1\n",
      "Q1-4-1 1\n",
      "Q1-5-1 1\n",
      "Q1-6-1 1\n",
      "Q2-1-1 3\n",
      "Q2-2-1 3\n",
      "Q2-3-1 3\n",
      "Q2-4-1 3\n",
      "Q2-5-1 3\n",
      "Q2-6-1 3\n",
      "Q3-1-1 3\n",
      "Q3-2-1 3\n",
      "Q3-3-1 3\n",
      "Q3-4-1 3\n",
      "Q3-5-1 3\n",
      "Q3-6-1 3\n",
      "Q3-1-2 9\n",
      "Q3-2-2 9\n",
      "Q3-3-2 9\n",
      "Q3-4-2 9\n",
      "Q3-5-2 9\n",
      "Q3-6-2 9\n",
      "Q4-1-1 1\n",
      "Q4-2-1 1\n",
      "Q4-3-1 1\n",
      "Q4-4-1 1\n",
      "Q4-5-1 1\n",
      "Q4-6-1 1\n",
      "Q5-1-1 1\n",
      "Q5-2-1 1\n",
      "Q5-3-1 1\n",
      "Q5-4-1 1\n",
      "Q5-5-1 1\n",
      "Q5-6-1 1\n",
      "Q6-1-1 1\n",
      "Q6-2-1 1\n",
      "Q6-3-1 1\n",
      "Q6-4-1 1\n",
      "Q6-5-1 1\n",
      "Q6-6-1 1\n",
      "Q7-1-1 1\n",
      "Q7-2-1 1\n",
      "Q7-3-1 1\n",
      "Q7-4-1 1\n",
      "Q7-5-1 1\n",
      "Q7-6-1 1\n",
      "Q8-1-1 1\n",
      "Q8-2-1 1\n",
      "Q8-3-1 1\n",
      "Q8-4-1 1\n",
      "Q8-5-1 1\n",
      "Q8-6-1 1\n",
      "Q9-1-1 20\n",
      "Q9-2-1 20\n",
      "Q9-3-1 20\n",
      "Q9-4-1 20\n",
      "Q9-5-1 20\n",
      "Q9-6-1 20\n",
      "Q10-1-1 1\n",
      "Q10-2-1 1\n",
      "Q10-3-1 1\n",
      "Q10-4-1 1\n",
      "Q10-5-1 1\n",
      "Q10-6-1 1\n",
      "Q11-1-1 10\n",
      "Q11-2-1 10\n",
      "Q11-3-1 10\n",
      "Q11-4-1 10\n",
      "Q11-5-1 10\n",
      "Q11-6-1 10\n",
      "Q12-1-1 5\n",
      "Q12-2-1 5\n",
      "Q12-3-1 5\n",
      "Q12-4-1 5\n",
      "Q12-5-1 5\n",
      "Q12-6-1 5\n",
      "Q13-1-1 1\n",
      "Q13-2-1 1\n",
      "Q13-3-1 1\n",
      "Q13-4-1 1\n",
      "Q13-5-1 1\n",
      "Q13-6-1 1\n",
      "Q14-1-1 1\n",
      "Q14-2-1 1\n",
      "Q14-3-1 1\n",
      "Q14-4-1 1\n",
      "Q14-5-1 1\n",
      "Q14-6-1 1\n",
      "Q15-1-1 2\n",
      "Q15-2-1 2\n",
      "Q15-3-1 2\n",
      "Q15-4-1 2\n",
      "Q15-5-1 2\n",
      "Q15-6-1 2\n",
      "Q16-1-1 3\n",
      "Q16-2-1 3\n",
      "Q16-3-1 3\n",
      "Q16-4-1 3\n",
      "Q16-5-1 3\n",
      "Q16-6-1 3\n",
      "Q16-1-2 9\n",
      "Q16-2-2 9\n",
      "Q16-3-2 9\n",
      "Q16-4-2 9\n",
      "Q16-5-2 9\n",
      "Q16-6-2 9\n",
      "Q17-1-1 1\n",
      "Q17-2-1 1\n",
      "Q17-3-1 1\n",
      "Q17-4-1 1\n",
      "Q17-5-1 1\n",
      "Q17-6-1 1\n",
      "Q17-1-2 2\n",
      "Q17-2-2 2\n",
      "Q17-3-2 2\n",
      "Q17-4-2 2\n",
      "Q17-5-2 2\n",
      "Q17-6-2 2\n",
      "Q18-1-1 54\n",
      "Q18-2-1 54\n",
      "Q18-3-1 54\n",
      "Q18-4-1 54\n",
      "Q18-5-1 54\n",
      "Q18-6-1 54\n",
      "Q18-1-2 14\n",
      "Q18-2-2 14\n",
      "Q18-3-2 14\n",
      "Q18-4-2 14\n",
      "Q18-5-2 14\n",
      "Q18-6-2 14\n",
      "Q19-1-1 3\n",
      "Q19-2-1 3\n",
      "Q19-3-1 3\n",
      "Q19-4-1 3\n",
      "Q19-5-1 3\n",
      "Q19-6-1 3\n",
      "Q19-1-2 9\n",
      "Q19-2-2 9\n",
      "Q19-3-2 9\n",
      "Q19-4-2 9\n",
      "Q19-5-2 9\n",
      "Q19-6-2 9\n",
      "Q20-1-1 3\n",
      "Q20-2-1 3\n",
      "Q20-3-1 3\n",
      "Q20-4-1 3\n",
      "Q20-5-1 3\n",
      "Q20-6-1 3\n",
      "Q20-1-2 9\n",
      "Q20-2-2 9\n",
      "Q20-3-2 9\n",
      "Q20-4-2 9\n",
      "Q20-5-2 9\n",
      "Q20-6-2 9\n",
      "Q21-1-1 54\n",
      "Q21-2-1 54\n",
      "Q21-3-1 54\n",
      "Q21-4-1 54\n",
      "Q21-5-1 54\n",
      "Q21-6-1 54\n",
      "Q21-1-2 14\n",
      "Q21-2-2 14\n",
      "Q21-3-2 14\n",
      "Q21-4-2 14\n",
      "Q21-5-2 14\n",
      "Q21-6-2 14\n"
     ]
    }
   ],
   "source": [
    "import time\n",
    "from functions.SPARQL_executer import execute_query\n",
    "\n",
    "\n",
    "query_results = []\n",
    "for question in questions:\n",
    "    time.sleep(0.1)\n",
    "    query_results += [execute_query(question, endpoint, \"sparql\", 10000, \"\")]\n",
    "    print(question[\"id\"], len(query_results[-1][0]))\n",
    "\n",
    "# 各質問に対する結果を追加\n",
    "for result, question_id in query_results:\n",
    "    # 質問を見つけて結果を追加\n",
    "    for question in questions:\n",
    "        if question[\"id\"] == question_id:\n",
    "            question[\"results\"] = result\n",
    "\n",
    "with open(save_path_with_results, 'w') as f:\n",
    "    json.dump(questions, f, indent=4)"
   ]
  },
  {
   "cell_type": "code",
   "execution_count": null,
   "metadata": {},
   "outputs": [],
   "source": [
    "# load jsonl file\n",
    "path = f\"dataset/test_data_random_{db}.jsonl\"\n",
    "with open(path, \"r\") as f:\n",
    "    test_data = [json.loads(line) for line in f]"
   ]
  },
  {
   "cell_type": "code",
   "execution_count": 74,
   "metadata": {},
   "outputs": [],
   "source": [
    "# test_data 'role': 'user'のcontentを取得\n",
    "test_questions = []\n",
    "for i, data in enumerate(test_data):\n",
    "    user_question = data['messages'][1]['content']\n",
    "    for question in questions:\n",
    "        if question['user_question'] == user_question:\n",
    "            test_questions.append(question)\n",
    "\n",
    "id_list = []\n",
    "for question in test_questions:\n",
    "    if question['id'] not in id_list:\n",
    "        id_list.append(question['id'])\n",
    "    else:\n",
    "        test_questions.remove(question)\n",
    "    "
   ]
  },
  {
   "cell_type": "code",
   "execution_count": 75,
   "metadata": {},
   "outputs": [
    {
     "data": {
      "text/plain": [
       "54"
      ]
     },
     "execution_count": 75,
     "metadata": {},
     "output_type": "execute_result"
    }
   ],
   "source": [
    "len(test_questions)"
   ]
  },
  {
   "cell_type": "code",
   "execution_count": 76,
   "metadata": {},
   "outputs": [
    {
     "name": "stdout",
     "output_type": "stream",
     "text": [
      "Please tell me the ChEBI IDs of the compounds involved in the rhea:10024 reaction\n"
     ]
    }
   ],
   "source": [
    "print(test_questions[0]['user_question'])"
   ]
  },
  {
   "cell_type": "code",
   "execution_count": 79,
   "metadata": {},
   "outputs": [],
   "source": [
    "from openai import OpenAI\n",
    "client = OpenAI()"
   ]
  },
  {
   "cell_type": "code",
   "execution_count": null,
   "metadata": {},
   "outputs": [],
   "source": [
    "system_prompt = \"Create a SPARQL query to retrieve values from the database for the user question\"\n",
    "\n",
    "for q in test_questions:\n",
    "  completion = client.chat.completions.create(\n",
    "    model=\"ft:gpt-4o-mini-2024-07-18:personal::Bif5J07q\",\n",
    "    messages=[\n",
    "      {\"role\": \"system\", \"content\": system_prompt},\n",
    "      {\"role\": \"user\", \"content\": q[\"user_question\"]}\n",
    "    ]\n",
    "  )\n",
    "  q[\"llm_sparql\"] = completion.choices[0].message.content\n",
    "\n",
    "with open(save_path, 'w') as f:\n",
    "    json.dump(test_questions, f, indent=4)"
   ]
  },
  {
   "cell_type": "code",
   "execution_count": null,
   "metadata": {},
   "outputs": [
    {
     "name": "stdout",
     "output_type": "stream",
     "text": [
      "Q2-1-1 3\n",
      "Q2-2-1 3\n",
      "Q2-3-1 3\n",
      "Q2-4-1 3\n",
      "Q2-5-1 3\n",
      "Q2-6-1 3\n",
      "Q4-1-1 0\n",
      "Q4-2-1 0\n",
      "Q4-3-1 0\n",
      "Q4-4-1 0\n",
      "Q4-5-1 0\n",
      "Q4-6-1 0\n",
      "Q5-1-1 0\n",
      "Q5-2-1 0\n",
      "Q5-3-1 0\n",
      "Q5-4-1 0\n",
      "Q5-5-1 0\n",
      "Q5-6-1 0\n",
      "Q8-1-1 0\n",
      "Q8-2-1 0\n",
      "Q8-3-1 1\n",
      "Q8-4-1 0\n",
      "Q8-5-1 1\n",
      "Q8-6-1 20\n",
      "Q15-1-1 0\n",
      "Q15-2-1 1\n",
      "Q15-3-1 1\n",
      "Q15-4-1 3\n",
      "Q15-5-1 1\n",
      "Q15-6-1 5\n",
      "Q17-1-1 1\n",
      "Q17-2-1 1\n",
      "Q17-3-1 1\n",
      "Q17-4-1 1\n",
      "Q17-5-1 1\n",
      "Q17-6-1 1\n",
      "Q17-1-2 2\n",
      "Q17-2-2 2\n",
      "Q17-3-2 2\n",
      "Q17-4-2 2\n",
      "Q17-5-2 2\n",
      "Q17-6-2 2\n",
      "Q19-1-1 3\n",
      "Q19-2-1 3\n",
      "Q19-3-1 3\n",
      "Q19-4-1 3\n",
      "Q19-5-1 3\n",
      "Q19-6-1 3\n",
      "Q19-1-2 9\n",
      "Q19-2-2 9\n",
      "Q19-3-2 9\n",
      "Q19-4-2 9\n",
      "Q19-5-2 9\n",
      "Q19-6-2 9\n"
     ]
    }
   ],
   "source": [
    "import time\n",
    "from functions.SPARQL_executer import execute_query\n",
    "\n",
    "query_results = []\n",
    "for question in test_questions:\n",
    "    time.sleep(0.1)\n",
    "    query_results += [execute_query(question, endpoint, \"llm_sparql\", 10000, \"\")]\n",
    "    print(question[\"id\"], len(query_results[-1][0]))\n",
    "\n",
    "# 各質問に対する結果を追加\n",
    "for result, question_id in query_results:\n",
    "    # 質問を見つけて結果を追加\n",
    "    for question in test_questions:\n",
    "        if question[\"id\"] == question_id:\n",
    "            question[\"results\"] = result\n",
    "\n",
    "with open(save_path, 'w') as f:\n",
    "    json.dump(test_questions, f, indent=4)"
   ]
  },
  {
   "cell_type": "markdown",
   "metadata": {},
   "source": [
    "### evaluation"
   ]
  },
  {
   "cell_type": "code",
   "execution_count": 3,
   "metadata": {},
   "outputs": [],
   "source": [
    "with open(save_path, 'r') as f:\n",
    "    questions = json.load(f)\n",
    "\n",
    "with open(save_path_with_results, 'r') as f:\n",
    "    answers = json.load(f)"
   ]
  },
  {
   "cell_type": "code",
   "execution_count": 4,
   "metadata": {},
   "outputs": [],
   "source": [
    "# questionsのもつidとanswersのもつidが一致するものを取得, answerを間引く\n",
    "new_answers = []\n",
    "\n",
    "for question in questions:\n",
    "    for answer in answers:\n",
    "        if question['id'] == answer['id']:\n",
    "            new_answers.append(answer)\n"
   ]
  },
  {
   "cell_type": "code",
   "execution_count": 5,
   "metadata": {},
   "outputs": [
    {
     "data": {
      "text/plain": [
       "(30, 30)"
      ]
     },
     "execution_count": 5,
     "metadata": {},
     "output_type": "execute_result"
    }
   ],
   "source": [
    "len(questions), len(new_answers)"
   ]
  },
  {
   "cell_type": "code",
   "execution_count": null,
   "metadata": {},
   "outputs": [
    {
     "name": "stdout",
     "output_type": "stream",
     "text": [
      "PREFIX genex: <http://purl.org/genex#>\n",
      "PREFIX efo: <http://www.ebi.ac.uk/efo/>\n",
      "PREFIX rdfs: <http://www.w3.org/2000/01/rdf-schema#>\n",
      "PREFIX orth: <http://purl.org/net/orth#>\n",
      "PREFIX lscr: <http://purl.org/lscr#>\n",
      "PREFIX core: <http://purl.uniprot.org/core/>\n",
      "PREFIX chembl: <http://rdf.ebi.ac.uk/terms/chembl#>\n",
      "\n",
      "SELECT DISTINCT ?expression_condition_developmental_stage ?expression_level ?gene_alias \n",
      "WHERE {\n",
      "    VALUES ?gene_name { \"RGMA\" }\n",
      "    VALUES ?expression_condition_developmental_stage { efo:developmental_stage_uninformed efo:developmental_stage_embryonic efo:developmental_stage_fetal efo:developmental_stage_child efo:developmental_stage_adult }\n",
      "    ?Expression a genex:Expression ;\n",
      "        genex:hasExpressionCondition / genex:hasDevelopmentalStage / rdfs:label ?expression_condition_developmental_stage ;\n",
      "        genex:hasExpressionLevel ?expression_level ;\n",
      "        genex:hasSequenceUnit / lscr:xrefUniprot / core:recommendedName / core:fullName ?gene_name ;\n",
      "        genex:hasSequenceUnit / lscr:crossReference ?gene_alias .\n",
      "    ?gene_alias a core:ProteinUnclassified ;\n",
      "        rdfs:subClassOf ?x .\n",
      "    ?x a core:Protein ; \n",
      "        core:recommendedName / core:fullName ?gene_name .\n",
      "}\n",
      "LIMIT 100\n",
      "\n"
     ]
    }
   ],
   "source": [
    "print(questions[0]['llm_sparql'])"
   ]
  },
  {
   "cell_type": "code",
   "execution_count": 7,
   "metadata": {},
   "outputs": [
    {
     "name": "stderr",
     "output_type": "stream",
     "text": [
      "Evaluating: 100%|██████████| 30/30 [00:00<00:00, 562.37it/s]"
     ]
    },
    {
     "name": "stdout",
     "output_type": "stream",
     "text": [
      "Skipping Q2-1-1 due to empty columns.\n",
      "Skipping Q2-2-1 due to empty columns.\n",
      "Skipping Q2-3-1 due to missing results.\n",
      "Skipping Q2-4-1 due to empty columns.\n",
      "Skipping Q2-5-1 due to empty columns.\n",
      "Skipping Q2-6-1 due to missing results.\n",
      "Skipping Q4-1-1 due to empty columns.\n",
      "Skipping Q4-2-1 due to empty columns.\n",
      "Skipping Q4-3-1 due to empty columns.\n",
      "Skipping Q4-4-1 due to empty columns.\n",
      "Skipping Q4-5-1 due to empty columns.\n",
      "Skipping Q4-6-1 due to empty columns.\n",
      "Skipping Q5-1-1 due to empty columns.\n",
      "Skipping Q5-2-1 due to missing results.\n",
      "Skipping Q5-3-1 due to empty columns.\n",
      "Skipping Q5-4-1 due to empty columns.\n",
      "Skipping Q5-5-1 due to empty columns.\n",
      "Skipping Q5-6-1 due to empty columns.\n",
      "Skipping Q7-1-1 due to empty columns.\n",
      "Skipping Q7-2-1 due to missing results.\n",
      "Skipping Q7-3-1 due to missing results.\n",
      "Skipping Q7-4-1 due to empty columns.\n",
      "Skipping Q7-5-1 due to empty columns.\n",
      "Skipping Q7-6-1 due to empty columns.\n",
      "Skipping Q16-1-1 due to missing results.\n",
      "Skipping Q16-2-1 due to empty columns.\n",
      "Skipping Q16-3-1 due to empty columns.\n",
      "Skipping Q16-4-1 due to empty columns.\n",
      "Skipping Q16-5-1 due to empty columns.\n",
      "Skipping Q16-6-1 due to empty columns.\n"
     ]
    },
    {
     "name": "stderr",
     "output_type": "stream",
     "text": [
      "\n"
     ]
    }
   ],
   "source": [
    "score = evaluate_jaccard(questions, new_answers)"
   ]
  },
  {
   "cell_type": "code",
   "execution_count": 9,
   "metadata": {},
   "outputs": [
    {
     "data": {
      "text/plain": [
       "{'Q2-1-1': {'jaccard_score': 0},\n",
       " 'Q2-2-1': {'jaccard_score': 0},\n",
       " 'Q2-3-1': {'jaccard_score': 0},\n",
       " 'Q2-4-1': {'jaccard_score': 0},\n",
       " 'Q2-5-1': {'jaccard_score': 0},\n",
       " 'Q2-6-1': {'jaccard_score': 0},\n",
       " 'Q4-1-1': {'jaccard_score': 0},\n",
       " 'Q4-2-1': {'jaccard_score': 0},\n",
       " 'Q4-3-1': {'jaccard_score': 0},\n",
       " 'Q4-4-1': {'jaccard_score': 0},\n",
       " 'Q4-5-1': {'jaccard_score': 0},\n",
       " 'Q4-6-1': {'jaccard_score': 0},\n",
       " 'Q5-1-1': {'jaccard_score': 0},\n",
       " 'Q5-2-1': {'jaccard_score': 0},\n",
       " 'Q5-3-1': {'jaccard_score': 0},\n",
       " 'Q5-4-1': {'jaccard_score': 0},\n",
       " 'Q5-5-1': {'jaccard_score': 0},\n",
       " 'Q5-6-1': {'jaccard_score': 0},\n",
       " 'Q7-1-1': {'jaccard_score': 0},\n",
       " 'Q7-2-1': {'jaccard_score': 0},\n",
       " 'Q7-3-1': {'jaccard_score': 0},\n",
       " 'Q7-4-1': {'jaccard_score': 0},\n",
       " 'Q7-5-1': {'jaccard_score': 0},\n",
       " 'Q7-6-1': {'jaccard_score': 0},\n",
       " 'Q16-1-1': {'jaccard_score': 0},\n",
       " 'Q16-2-1': {'jaccard_score': 0},\n",
       " 'Q16-3-1': {'jaccard_score': 0},\n",
       " 'Q16-4-1': {'jaccard_score': 0},\n",
       " 'Q16-5-1': {'jaccard_score': 0},\n",
       " 'Q16-6-1': {'jaccard_score': 0},\n",
       " 'overall_average_jaccard_score': 0.0}"
      ]
     },
     "execution_count": 9,
     "metadata": {},
     "output_type": "execute_result"
    }
   ],
   "source": [
    "score"
   ]
  },
  {
   "cell_type": "code",
   "execution_count": null,
   "metadata": {},
   "outputs": [],
   "source": []
  }
 ],
 "metadata": {
  "kernelspec": {
   "display_name": "Python 3",
   "language": "python",
   "name": "python3"
  },
  "language_info": {
   "codemirror_mode": {
    "name": "ipython",
    "version": 3
   },
   "file_extension": ".py",
   "mimetype": "text/x-python",
   "name": "python",
   "nbconvert_exporter": "python",
   "pygments_lexer": "ipython3",
   "version": "3.8.10"
  }
 },
 "nbformat": 4,
 "nbformat_minor": 2
}
